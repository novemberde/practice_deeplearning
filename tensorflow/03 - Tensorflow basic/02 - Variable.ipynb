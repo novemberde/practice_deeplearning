{
 "cells": [
  {
   "cell_type": "code",
   "execution_count": 4,
   "metadata": {},
   "outputs": [
    {
     "name": "stdout",
     "output_type": "stream",
     "text": [
      "Tensor(\"Placeholder_2:0\", shape=(?, 3), dtype=float32)\n"
     ]
    }
   ],
   "source": [
    "# 플레이스 홀더와 변수의 개념 익히기\n",
    "import tensorflow as tf\n",
    "\n",
    "# tf.placeholder: 계산을 실행할 때 입력값을 받는 변수로 사용한다.\n",
    "# None 은 크기가 정해지지 않았음을 의미한다.\n",
    "X = tf.placeholder(tf.float32, [None, 3])\n",
    "print(X)"
   ]
  },
  {
   "cell_type": "code",
   "execution_count": 8,
   "metadata": {},
   "outputs": [
    {
     "name": "stdout",
     "output_type": "stream",
     "text": [
      "=== x_data ===\n",
      "[[1, 2, 3], [4, 5, 6]]\n",
      "=== W ===\n",
      "[[ 1.52925634  0.42987505]\n",
      " [-0.68468034 -1.60710812]\n",
      " [-0.97272873  0.15991895]]\n",
      "=== b ===\n",
      "[[ 0.73328424]\n",
      " [ 0.61449349]]\n",
      "=== expr ===\n",
      "[[-2.02500629 -1.57130003]\n",
      " [-2.52825546 -4.74203348]]\n"
     ]
    }
   ],
   "source": [
    "# X placeholder에 넣을 값\n",
    "# Placeholder에서 설정한 것 처럼, 두 번째 차원의 요소의 개수는 3개\n",
    "x_data = [[1,2,3],[4,5,6]]\n",
    "\n",
    "# tf.Variable: 그래프를 계산하면서 최적화 할 변수들. 이 값이 바로 신경망을 좌우하는 값.\n",
    "# tf.random_normal: 각 변수들의 초기값을 정규분포 랜덤 값으로 초기화한다.\n",
    "W = tf.Variable(tf.random_normal([3,2]))\n",
    "b = tf.Variable(tf.random_normal([2,1]))\n",
    "\n",
    "# 입력값과 변수들을 계산할 수식을 작성\n",
    "# tf.matmul 처럼 mat* 로 되어 있는 함수로 행렬 계산을 수행\n",
    "expr = tf.matmul(X,W) + b\n",
    "\n",
    "sess = tf.Session()\n",
    "\n",
    "sess.run(tf.global_variables_initializer())\n",
    "\n",
    "print(\"=== x_data ===\")\n",
    "print(x_data)\n",
    "print(\"=== W ===\")\n",
    "print(sess.run(W))\n",
    "print(\"=== b ===\")\n",
    "print(sess.run(b))\n",
    "print(\"=== expr ===\")\n",
    "# expr 수식에는 X 라는 입력값이 필요합니다.\n",
    "# 따라서 expr 실행시에는 이 변수에 대한 실제 입력값을 다음처럼 넣어줘야합니다.\n",
    "print(sess.run(expr, feed_dict={X: x_data}))\n",
    "\n",
    "sess.close()\n"
   ]
  }
 ],
 "metadata": {
  "kernelspec": {
   "display_name": "Python 3",
   "language": "python",
   "name": "python3"
  },
  "language_info": {
   "codemirror_mode": {
    "name": "ipython",
    "version": 2
   },
   "file_extension": ".py",
   "mimetype": "text/x-python",
   "name": "python",
   "nbconvert_exporter": "python",
   "pygments_lexer": "ipython2",
   "version": "2.7.12"
  }
 },
 "nbformat": 4,
 "nbformat_minor": 2
}
